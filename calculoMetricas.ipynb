{
  "nbformat": 4,
  "nbformat_minor": 0,
  "metadata": {
    "colab": {
      "provenance": [],
      "authorship_tag": "ABX9TyP0TDbHJfVPxvmBIL0WUHof",
      "include_colab_link": true
    },
    "kernelspec": {
      "name": "python3",
      "display_name": "Python 3"
    },
    "language_info": {
      "name": "python"
    }
  },
  "cells": [
    {
      "cell_type": "markdown",
      "metadata": {
        "id": "view-in-github",
        "colab_type": "text"
      },
      "source": [
        "<a href=\"https://colab.research.google.com/github/Lauro1/C-Users-CLIENTE-Desktop-Dio-fastFood.py/blob/main/calculoMetricas.ipynb\" target=\"_parent\"><img src=\"https://colab.research.google.com/assets/colab-badge.svg\" alt=\"Open In Colab\"/></a>"
      ]
    },
    {
      "cell_type": "code",
      "execution_count": null,
      "metadata": {
        "id": "v0C0qMNFWHFd"
      },
      "outputs": [],
      "source": []
    },
    {
      "cell_type": "markdown",
      "source": [
        "Matriz de confusao\n",
        "Calculo de metricas"
      ],
      "metadata": {
        "id": "06FA04wCWIYE"
      }
    },
    {
      "cell_type": "code",
      "source": [
        "# Definição dos valores da matriz de confusão\n",
        "VP = 40  # Verdadeiros Positivos\n",
        "FN = 10  # Falsos Negativos\n",
        "FP = 15  # Falsos Positivos\n",
        "VN = 35  # Verdadeiros Negativos\n",
        "\n",
        "# Cálculo das métricas\n",
        "def calcular_metricas(VP, VN, FP, FN):\n",
        "    # Sensibilidade (Recall)\n",
        "    sensibilidade = VP / (VP + FN) if (VP + FN) != 0 else 0\n",
        "\n",
        "    # Especificidade\n",
        "    especificidade = VN / (FP + VN) if (FP + VN) != 0 else 0\n",
        "\n",
        "    # Acurácia\n",
        "    N = VP + VN + FP + FN\n",
        "    acuracia = (VP + VN) / N if N != 0 else 0\n",
        "\n",
        "    # Precisão\n",
        "    precisao = VP / (VP + FP) if (VP + FP) != 0 else 0\n",
        "\n",
        "    # F-score\n",
        "    f_score = 2 * (precisao * sensibilidade) / (precisao + sensibilidade) if (precisao + sensibilidade) != 0 else 0\n",
        "\n",
        "    # Exibindo os resultados\n",
        "    print(\"Métricas de Avaliação:\")\n",
        "    print(f\"Sensibilidade (Recall): {sensibilidade:.2f}\")\n",
        "    print(f\"Especificidade: {especificidade:.2f}\")\n",
        "    print(f\"Acurácia: {acuracia:.2f}\")\n",
        "    print(f\"Precisão: {precisao:.2f}\")\n",
        "    print(f\"F-score: {f_score:.2f}\")\n",
        "\n",
        "# Chamando a função para calcular e mostrar os resultados\n",
        "calcular_metricas(VP, VN, FP, FN)\n",
        "\n"
      ],
      "metadata": {
        "id": "_WRYk3xgWPNo"
      },
      "execution_count": null,
      "outputs": []
    }
  ]
}